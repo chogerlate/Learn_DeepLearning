{
  "nbformat": 4,
  "nbformat_minor": 0,
  "metadata": {
    "colab": {
      "provenance": [],
      "toc_visible": true,
      "authorship_tag": "ABX9TyM5yOjngORKdUIy0GuyMJTe",
      "include_colab_link": true
    },
    "kernelspec": {
      "name": "python3",
      "display_name": "Python 3"
    },
    "language_info": {
      "name": "python"
    }
  },
  "cells": [
    {
      "cell_type": "markdown",
      "metadata": {
        "id": "view-in-github",
        "colab_type": "text"
      },
      "source": [
        "<a href=\"https://colab.research.google.com/github/chogerlate/Paper_implementation/blob/main/NaiveBeyes.ipynb\" target=\"_parent\"><img src=\"https://colab.research.google.com/assets/colab-badge.svg\" alt=\"Open In Colab\"/></a>"
      ]
    },
    {
      "cell_type": "markdown",
      "source": [
        "#Set up project"
      ],
      "metadata": {
        "id": "tkG9_3ce2rme"
      }
    },
    {
      "cell_type": "code",
      "source": [
        "from google.colab import drive\n",
        "drive.mount('/content/drive')"
      ],
      "metadata": {
        "colab": {
          "base_uri": "https://localhost:8080/"
        },
        "id": "6OpuZNDxwTFX",
        "outputId": "ad8a527e-37f3-41cf-bad0-f46c9cd84c3d"
      },
      "execution_count": null,
      "outputs": [
        {
          "output_type": "stream",
          "name": "stdout",
          "text": [
            "Mounted at /content/drive\n"
          ]
        }
      ]
    },
    {
      "cell_type": "code",
      "source": [
        "!pip install -q kaggle"
      ],
      "metadata": {
        "id": "gwDiua3yvuEN"
      },
      "execution_count": null,
      "outputs": []
    },
    {
      "cell_type": "code",
      "source": [
        "!cp /content/drive/MyDrive/colab/kaggle.json /content/kaggle.json\n",
        "!mkdir ~/.kaggle\n",
        "!cp /content/kaggle.json ~/.kaggle/ #copy api key ---- depend on your directory -- my directory is .../colab/..\n",
        "!chmod 600 ~/.kaggle/kaggle.json\n",
        "!kaggle datasets list"
      ],
      "metadata": {
        "colab": {
          "base_uri": "https://localhost:8080/"
        },
        "id": "Y4A0qZEIvvWm",
        "outputId": "c230c223-c8b0-41c3-f733-b0c8c964a83f"
      },
      "execution_count": null,
      "outputs": [
        {
          "output_type": "stream",
          "name": "stdout",
          "text": [
            "ref                                                             title                                                size  lastUpdated          downloadCount  voteCount  usabilityRating  \n",
            "--------------------------------------------------------------  --------------------------------------------------  -----  -------------------  -------------  ---------  ---------------  \n",
            "meirnizri/covid19-dataset                                       COVID-19 Dataset                                      5MB  2022-11-13 15:47:17           3327        103  1.0              \n",
            "akshaydattatraykhare/diabetes-dataset                           Diabetes Dataset                                      9KB  2022-10-06 08:55:25          19785        553  1.0              \n",
            "thedevastator/jobs-dataset-from-glassdoor                       Salary Prediction                                     3MB  2022-11-16 13:52:31           2373         64  1.0              \n",
            "fuarresvij/gdp-growth-around-the-globe                          GDP Growth around the Globe                         122KB  2022-11-22 00:36:28            886         27  0.9411765        \n",
            "akshaydattatraykhare/data-for-admission-in-the-university       Data for Admission in the University                  4KB  2022-10-27 11:05:45           6133        137  1.0              \n",
            "arthurboari/taylor-swift-spotify-data                           Taylor Swift Spotify Data                            96KB  2022-11-21 13:46:01            594         25  0.9705882        \n",
            "dsfelix/us-stores-sales                                         US Stores Sales                                      84KB  2022-11-08 00:11:06           1451         28  1.0              \n",
            "thedevastator/fashion-products-on-amazon-ratings-prices-and-pa  Fashion Products on Amazon: Ratings, Prices, etc      8MB  2022-11-18 14:28:57           1013         30  1.0              \n",
            "whenamancodes/predict-diabities                                 Predict Diabetes                                      9KB  2022-11-09 12:18:49           3172         67  1.0              \n",
            "prosperchuks/health-dataset                                     Diabetes, Hypertension and Stroke Prediction        597KB  2022-11-23 10:04:03            995         31  1.0              \n",
            "thedevastator/cancer-patients-and-air-pollution-a-new-link       Lung Cancer Prediction                               7KB  2022-11-14 13:40:40           1824         51  1.0              \n",
            "dbarteaux99/stable-diffusion-1-5                                Stable Diffusion 1.5 (normal and EMAonly) with vae    7GB  2022-10-23 15:40:29             68         17  0.9375           \n",
            "piterfm/fifa-football-world-cup                                 FIFA Football World Cup                              72KB  2022-11-29 08:13:58           1447         48  1.0              \n",
            "whenamancodes/credit-card-customers-prediction                  Credit Card Customers Prediction                    379KB  2022-10-30 13:03:27           3775         79  1.0              \n",
            "mukhazarahmad/worldwide-cancer-data                             Worldwide cancer data                                 2KB  2022-11-13 03:06:15            648         27  1.0              \n",
            "shilongzhuang/-women-clothing-ecommerce-sales-data              🏷️👚 Women Clothing Ecommerce Sales Data               5KB  2022-11-21 01:27:59            537         27  1.0              \n",
            "thedevastator/empowering-the-next-wave-of-entrepreneurs         US Startup companies over time (Timeseries)         974KB  2022-11-16 16:11:01            728         28  1.0              \n",
            "zvr842/global-pollution-by-counties                             Global pollution by counties                         15KB  2022-11-14 10:57:31           1454         30  0.9705882        \n",
            "dheerajmukati/india-gdp-19602022                                India GDP 1960-2022                                   1KB  2022-11-11 12:08:46           1262         36  1.0              \n",
            "swaptr/layoffs-2022                                             Layoffs 2022                                         31KB  2022-11-30 06:17:46           1961         50  1.0              \n"
          ]
        }
      ]
    },
    {
      "cell_type": "markdown",
      "source": [
        "#Load Iris Dataset"
      ],
      "metadata": {
        "id": "-UL4Sy9r2wHt"
      }
    },
    {
      "cell_type": "code",
      "source": [
        "!kaggle datasets download -d saurabh00007/iriscsv"
      ],
      "metadata": {
        "colab": {
          "base_uri": "https://localhost:8080/"
        },
        "id": "FYzJWG51vhTj",
        "outputId": "047a1d0d-025d-421b-dde5-98f28d68c51b"
      },
      "execution_count": null,
      "outputs": [
        {
          "output_type": "stream",
          "name": "stdout",
          "text": [
            "iriscsv.zip: Skipping, found more recently modified local copy (use --force to force download)\n"
          ]
        }
      ]
    },
    {
      "cell_type": "code",
      "source": [
        "!unzip /content/iriscsv.zip "
      ],
      "metadata": {
        "colab": {
          "base_uri": "https://localhost:8080/"
        },
        "id": "tu6W6udEwits",
        "outputId": "f2f664df-eff6-4b8f-9d66-2b33648116cd"
      },
      "execution_count": null,
      "outputs": [
        {
          "output_type": "stream",
          "name": "stdout",
          "text": [
            "Archive:  /content/iriscsv.zip\n",
            "  inflating: Iris.csv                \n"
          ]
        }
      ]
    },
    {
      "cell_type": "markdown",
      "source": [
        "#Import Libraries"
      ],
      "metadata": {
        "id": "YrNkr1bE27mH"
      }
    },
    {
      "cell_type": "code",
      "source": [
        "import pandas as pd \n",
        "import numpy as np \n",
        "from sklearn.model_selection import train_test_split\n"
      ],
      "metadata": {
        "id": "hgOKEzVC27UV"
      },
      "execution_count": null,
      "outputs": []
    },
    {
      "cell_type": "code",
      "source": [
        "df = pd.read_csv(\"/content/Iris.csv\") \n",
        "df.set_index(\"Id\",inplace=True)"
      ],
      "metadata": {
        "id": "Sdux6pKnu1iK"
      },
      "execution_count": null,
      "outputs": []
    },
    {
      "cell_type": "code",
      "source": [
        "df.info()"
      ],
      "metadata": {
        "colab": {
          "base_uri": "https://localhost:8080/"
        },
        "id": "H8OybCHxxYGr",
        "outputId": "ae465672-1c2a-4be7-9b37-b85b706b5f66"
      },
      "execution_count": null,
      "outputs": [
        {
          "output_type": "stream",
          "name": "stdout",
          "text": [
            "<class 'pandas.core.frame.DataFrame'>\n",
            "Int64Index: 150 entries, 1 to 150\n",
            "Data columns (total 5 columns):\n",
            " #   Column         Non-Null Count  Dtype  \n",
            "---  ------         --------------  -----  \n",
            " 0   SepalLengthCm  150 non-null    float64\n",
            " 1   SepalWidthCm   150 non-null    float64\n",
            " 2   PetalLengthCm  150 non-null    float64\n",
            " 3   PetalWidthCm   150 non-null    float64\n",
            " 4   Species        150 non-null    object \n",
            "dtypes: float64(4), object(1)\n",
            "memory usage: 7.0+ KB\n"
          ]
        }
      ]
    },
    {
      "cell_type": "code",
      "source": [
        "def create_dic(df,dict_data,text):\n",
        "  for i,j in enumerate(df[text]) :\n",
        "    if j in dict_data:\n",
        "      pass\n",
        "    else :\n",
        "      dict_data.update({j:len(dict_data)})\n",
        "  print(dict_data)\n",
        "  return dict_data"
      ],
      "metadata": {
        "id": "6bis1_F5zEp6"
      },
      "execution_count": null,
      "outputs": []
    },
    {
      "cell_type": "code",
      "source": [
        "ClassId={}\n",
        "ClassId=create_dic(df,ClassId,'Species')\n",
        "df['Species'].replace(ClassId,inplace=True)"
      ],
      "metadata": {
        "colab": {
          "base_uri": "https://localhost:8080/"
        },
        "id": "OWjnPGkozOHU",
        "outputId": "af70a826-d75b-46a3-aa11-ad91b3db9c58"
      },
      "execution_count": null,
      "outputs": [
        {
          "output_type": "stream",
          "name": "stdout",
          "text": [
            "{'Iris-setosa': 0, 'Iris-versicolor': 1, 'Iris-virginica': 2}\n"
          ]
        }
      ]
    },
    {
      "cell_type": "code",
      "source": [
        "df[\"Species\"] = df['Species'].astype(float)"
      ],
      "metadata": {
        "id": "PJ_pnVj5zoSo"
      },
      "execution_count": null,
      "outputs": []
    },
    {
      "cell_type": "code",
      "source": [
        "import numpy as np\n",
        "\n",
        "class NaiveBayes:\n",
        "\n",
        "    def fit(self, X, y):\n",
        "        n_samples, n_features = X.shape\n",
        "        self._classes = np.unique(y)\n",
        "        n_classes = len(self._classes)\n",
        "\n",
        "        # calculate mean, var, and prior for each class\n",
        "        self._mean = np.zeros((n_classes, n_features), dtype=np.float64)\n",
        "        self._var = np.zeros((n_classes, n_features), dtype=np.float64)\n",
        "        self._priors = np.zeros(n_classes, dtype=np.float64)\n",
        "\n",
        "        for idx, c in enumerate(self._classes):\n",
        "            X_c = X[y == c]\n",
        "            self._mean[idx, :] = X_c.mean(axis=0)\n",
        "            self._var[idx, :] = X_c.var(axis=0)\n",
        "            self._priors[idx] = X_c.shape[0] / float(n_samples)\n",
        "            \n",
        "\n",
        "    def predict(self, X):\n",
        "        y_pred = [self._Bestposterior(x) for x in X]\n",
        "        return np.array(y_pred)\n",
        "\n",
        "    def _Bestposterior(self, x):\n",
        "        posteriors = []\n",
        "\n",
        "        # calculate posterior probability for each class\n",
        "        for idx, c in enumerate(self._classes):\n",
        "            prior = self._priors[idx]\n",
        "            posterior = np.prod(self._GNB(idx, x))\n",
        "            posterior = posterior * prior\n",
        "            posteriors.append(posterior)\n",
        "\n",
        "        # return class with the highest posterior\n",
        "        return self._classes[np.argmax(posteriors)]\n",
        "\n",
        "    def _GNB(self, class_idx, x):\n",
        "        mean = self._mean[class_idx]\n",
        "        var = self._var[class_idx]\n",
        "        numerator = np.exp(-((x - mean) ** 2) / (2 * var))\n",
        "        denominator = np.sqrt(2 * np.pi * var)\n",
        "        return numerator / denominator\n"
      ],
      "metadata": {
        "id": "3CIn46fPdH48"
      },
      "execution_count": null,
      "outputs": []
    },
    {
      "cell_type": "code",
      "source": [
        "def accuracy(y_true, y_pred):\n",
        "    accuracy = np.sum(y_true == y_pred) / len(y_true)\n",
        "    return accuracy"
      ],
      "metadata": {
        "id": "xDRQjXWV3UzQ"
      },
      "execution_count": null,
      "outputs": []
    },
    {
      "cell_type": "code",
      "source": [
        "X = df.iloc[:,:-1].to_numpy()\n",
        "y = df.iloc[:,[-1]].to_numpy().flatten()\n",
        "X_train, X_test, y_train, y_test = train_test_split(\n",
        "        X, y, test_size=0.2, random_state=2022\n",
        ")\n",
        "\n",
        "nb = NaiveBayes()\n",
        "nb.fit(X_train, y_train)\n",
        "predictions = nb.predict(X_test)\n",
        "\n",
        "print(\"Naive Bayes classification accuracy\", accuracy(y_test, predictions))"
      ],
      "metadata": {
        "colab": {
          "base_uri": "https://localhost:8080/"
        },
        "id": "yJz-rY-M3XXv",
        "outputId": "05ab0786-b98d-43a0-88b4-e8f49064a865"
      },
      "execution_count": null,
      "outputs": [
        {
          "output_type": "stream",
          "name": "stdout",
          "text": [
            "Naive Bayes classification accuracy 0.9666666666666667\n"
          ]
        }
      ]
    }
  ]
}